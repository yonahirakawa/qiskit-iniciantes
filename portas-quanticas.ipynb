{
 "cells": [
  {
   "cell_type": "markdown",
   "metadata": {},
   "source": [
    "# Operadores básicos da computação quântica"
   ]
  },
  {
   "cell_type": "markdown",
   "metadata": {},
   "source": [
    "## Operadores de um qubit\n",
    "\n",
    "Os operadores Pauli-X, Pauli-Y e Pauli-Z são responsáveis por rotacionar o estado de um qubit em 180 graus na esfera de Bloch.\n",
    "\n",
    "### x-gate (Pauli-X)\n",
    "\n",
    "Operador NOT\n",
    "\n",
    "$ X = \\begin{pmatrix}\n",
    "0 & 1 \\\\\n",
    "1 & 0 \\\\\n",
    "\\end{pmatrix} $ \n"
   ]
  },
  {
   "cell_type": "code",
   "execution_count": 2,
   "metadata": {},
   "outputs": [
    {
     "data": {
      "image/png": "[encoded data removed]",
      "text/plain": [
       "<Figure size 185.453x117.056 with 1 Axes>"
      ]
     },
     "execution_count": 2,
     "metadata": {},
     "output_type": "execute_result"
    }
   ],
   "source": [
    "from qiskit import QuantumCircuit, QuantumRegister, ClassicalRegister\n",
    "\n",
    "qc = QuantumCircuit(1)\n",
    "\n",
    "qc.x(0)\n",
    "qc.draw(output='mpl')"
   ]
  },
  {
   "cell_type": "markdown",
   "metadata": {},
   "source": [
    "### y-gate (Pauli-Y)\n",
    "\n",
    "$ Y = \\begin{pmatrix}\n",
    "0 & -i \\\\\n",
    "i & 0 \\\\\n",
    "\\end{pmatrix} $ "
   ]
  },
  {
   "cell_type": "code",
   "execution_count": 3,
   "metadata": {},
   "outputs": [
    {
     "data": {
      "image/png": "[encoded data removed]",
      "text/plain": [
       "<Figure size 185.453x117.056 with 1 Axes>"
      ]
     },
     "execution_count": 3,
     "metadata": {},
     "output_type": "execute_result"
    }
   ],
   "source": [
    "qc1 = QuantumCircuit(1)\n",
    "qc1.y(0)\n",
    "qc1.draw(output='mpl')"
   ]
  },
  {
   "cell_type": "markdown",
   "metadata": {},
   "source": [
    "### z-gate (Pauli-Z)\n",
    "\n",
    "$ Z = \\begin{pmatrix}\n",
    "1 & 0 \\\\\n",
    "0 & -1 \\\\\n",
    "\\end{pmatrix} $ "
   ]
  },
  {
   "cell_type": "code",
   "execution_count": 4,
   "metadata": {},
   "outputs": [
    {
     "data": {
      "image/png": "[encoded data removed]",
      "text/plain": [
       "<Figure size 185.453x117.056 with 1 Axes>"
      ]
     },
     "execution_count": 4,
     "metadata": {},
     "output_type": "execute_result"
    }
   ],
   "source": [
    "qc2 = QuantumCircuit(1)\n",
    "qc2.z(0)\n",
    "qc2.draw(output='mpl')"
   ]
  },
  {
   "cell_type": "markdown",
   "metadata": {},
   "source": [
    "### h-gate (operador Hadamard)\n",
    "\n",
    "$ H = \\frac{1}{\\sqrt2} \\begin{pmatrix}\n",
    "1 & 1 \\\\\n",
    "1 & -1 \\\\\n",
    "\\end{pmatrix} $ "
   ]
  },
  {
   "cell_type": "code",
   "execution_count": 5,
   "metadata": {},
   "outputs": [
    {
     "data": {
      "image/png": "[encoded data removed]",
      "text/plain": [
       "<Figure size 185.453x117.056 with 1 Axes>"
      ]
     },
     "execution_count": 5,
     "metadata": {},
     "output_type": "execute_result"
    }
   ],
   "source": [
    "qc3 = QuantumCircuit(1)\n",
    "qc3.h(0)\n",
    "qc3.draw(output='mpl')"
   ]
  },
  {
   "cell_type": "markdown",
   "metadata": {},
   "source": [
    "### ry-gate (operador de rotação)\n",
    "\n",
    "$ R(a) = \\begin{pmatrix}\n",
    "\\cos{a} & -\\sin a \\\\\n",
    "\\sin a & \\cos a \\\\\n",
    "\\end{pmatrix} $ \n",
    "\n",
    "A matriz representa a rotação com ângulo $a$ em um espaço bidimensional."
   ]
  },
  {
   "cell_type": "code",
   "execution_count": 6,
   "metadata": {},
   "outputs": [
    {
     "data": {
      "image/png": "[encoded data removed]",
      "text/plain": [
       "<Figure size 185.453x117.056 with 1 Axes>"
      ]
     },
     "execution_count": 6,
     "metadata": {},
     "output_type": "execute_result"
    }
   ],
   "source": [
    "from cmath import pi\n",
    "\n",
    "# Para aplicar este operador, precisamos especificar o ângulo para o qubit\n",
    "# Aqui vamos considerar a = 2*pi\n",
    "\n",
    "qc4 = QuantumCircuit(1)\n",
    "qc4.ry(2*pi,0)\n",
    "qc4.draw(output='mpl')"
   ]
  },
  {
   "cell_type": "markdown",
   "metadata": {},
   "source": [
    "## Operadores de múltiplos qubits\n",
    "\n",
    "### cx-gate (operador CNOT ou controlled-NOT)\n",
    "\n",
    "$ CNOT = \\begin{pmatrix}\n",
    "1 & 0 & 0 & 0 \\\\\n",
    "0 & 1 & 0 & 0 \\\\\n",
    "0 & 0 & 0 & 1 \\\\\n",
    "0 & 0 & 1 & 0 \\\\\n",
    "\\end{pmatrix} $ \n",
    "\n",
    "Aqui temos dois operandos: um qubit de controle e um qubit alvo. O operador Controlled-NOT inverte o estado do qubit alvo quando o qubit de controle é definido como $\\ket{1}$. Quando o qubit de controle é definido como $\\ket{0}$, o estado do qubit alvo não sofre alteração. Em ambos os casos, o estado do qubit de controle não sofre alteração."
   ]
  },
  {
   "cell_type": "code",
   "execution_count": 7,
   "metadata": {},
   "outputs": [
    {
     "data": {
      "image/png": "[encoded data removed]",
      "text/plain": [
       "<Figure size 203.683x200.667 with 1 Axes>"
      ]
     },
     "execution_count": 7,
     "metadata": {},
     "output_type": "execute_result"
    }
   ],
   "source": [
    "qc5 = QuantumCircuit(2)\n",
    "qc5.cx(0,1)\n",
    "qc5.draw(output='mpl')\n"
   ]
  },
  {
   "cell_type": "markdown",
   "metadata": {},
   "source": [
    "Neste exemplo, o qubit de controle é o $q_0$ e o qubit alvo é o $q_1$.\n",
    "\n",
    "Em resumo,\n",
    "\n",
    "- $ CNOT \\ket{00} = \\ket{00} $,\n",
    "\n",
    "- $ CNOT \\ket{01} = \\ket{01} $,\n",
    "\n",
    "- $ CNOT \\ket{10} = \\ket{11} $, \n",
    "\n",
    "- $ CNOT \\ket{11} = \\ket{10} $."
   ]
  }
 ],
 "metadata": {
  "kernelspec": {
   "display_name": "Python 3.10.7 64-bit",
   "language": "python",
   "name": "python3"
  },
  "language_info": {
   "codemirror_mode": {
    "name": "ipython",
    "version": 3
   },
   "file_extension": ".py",
   "mimetype": "text/x-python",
   "name": "python",
   "nbconvert_exporter": "python",
   "pygments_lexer": "ipython3",
   "version": "3.10.7"
  },
  "orig_nbformat": 4,
  "vscode": {
   "interpreter": {
    "hash": "cabb79eba6a7bbc86f68b9d7ec45eb843010dd03cdb24ac98d3af13e82d22868"
   }
  }
 },
 "nbformat": 4,
 "nbformat_minor": 2
}
